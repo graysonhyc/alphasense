{
 "nbformat": 4,
 "nbformat_minor": 2,
 "metadata": {
  "language_info": {
   "name": "python",
   "codemirror_mode": {
    "name": "ipython",
    "version": 3
   },
   "version": "3.7.3-final"
  },
  "orig_nbformat": 2,
  "file_extension": ".py",
  "mimetype": "text/x-python",
  "name": "python",
  "npconvert_exporter": "python",
  "pygments_lexer": "ipython3",
  "version": 3,
  "kernelspec": {
   "name": "python3",
   "display_name": "Python 3"
  }
 },
 "cells": [
  {
   "cell_type": "code",
   "execution_count": 15,
   "metadata": {},
   "outputs": [],
   "source": [
    "import pandas as pd\n",
    "import numpy as np"
   ]
  },
  {
   "cell_type": "code",
   "execution_count": 16,
   "metadata": {},
   "outputs": [],
   "source": [
    "cs_data = pd.read_csv(\"goldman_sachs_predictions.csv\")"
   ]
  },
  {
   "cell_type": "code",
   "execution_count": 17,
   "metadata": {},
   "outputs": [],
   "source": [
    "increasing_slope = pd.Interval(0, 365)\n",
    "decreasing_slope = pd.Interval(366, 730)"
   ]
  },
  {
   "cell_type": "code",
   "execution_count": 18,
   "metadata": {},
   "outputs": [],
   "source": [
    "def func(x):\n",
    "    if pd.isnull(x):\n",
    "        return 0\n",
    "    elif x in increasing_slope:\n",
    "        return x\n",
    "    elif x in decreasing_slope:\n",
    "        return 365 + (365 - x)\n",
    "    else:\n",
    "        return 0"
   ]
  },
  {
   "cell_type": "code",
   "execution_count": 19,
   "metadata": {},
   "outputs": [],
   "source": [
    "cs_data['raw_score'] = cs_data.days_until_predicted.apply(func)"
   ]
  },
  {
   "cell_type": "code",
   "execution_count": 20,
   "metadata": {},
   "outputs": [
    {
     "output_type": "stream",
     "name": "stdout",
     "text": "81.96491228070175\n"
    }
   ],
   "source": [
    "n = len(cs_data)\n",
    "total_raw_score = 0\n",
    "for grp, data in cs_data.groupby(['ticker']):\n",
    "    m = len(data)\n",
    "    total_raw_score += (1/m)*np.sum(data['raw_score'])*(m/n)\n",
    "print(total_raw_score)"
   ]
  },
  {
   "cell_type": "code",
   "execution_count": 21,
   "metadata": {},
   "outputs": [
    {
     "output_type": "stream",
     "name": "stdout",
     "text": "22.45614035087719\n"
    }
   ],
   "source": [
    "total_normalized_score = (total_raw_score - 0)/(365-0) * 100\n",
    "print(total_normalized_score)"
   ]
  }
 ]
}