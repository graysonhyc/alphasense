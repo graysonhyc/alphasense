{
 "nbformat": 4,
 "nbformat_minor": 2,
 "metadata": {
  "language_info": {
   "name": "python",
   "codemirror_mode": {
    "name": "ipython",
    "version": 3
   },
   "version": "3.7.3-final"
  },
  "orig_nbformat": 2,
  "file_extension": ".py",
  "mimetype": "text/x-python",
  "name": "python",
  "npconvert_exporter": "python",
  "pygments_lexer": "ipython3",
  "version": 3,
  "kernelspec": {
   "name": "python37364bit15d981fc1e5049a2aa7961c2c235b7a9",
   "display_name": "Python 3.7.3 64-bit"
  }
 },
 "cells": [
  {
   "cell_type": "code",
   "execution_count": 26,
   "metadata": {},
   "outputs": [],
   "source": [
    "import pandas as pd\n",
    "import numpy as np"
   ]
  },
  {
   "cell_type": "code",
   "execution_count": 3,
   "metadata": {},
   "outputs": [],
   "source": [
    "cs_data = pd.read_csv(\"credit_suisse_predictions.csv\")"
   ]
  },
  {
   "cell_type": "code",
   "execution_count": 5,
   "metadata": {},
   "outputs": [],
   "source": [
    "increasing_slope = pd.Interval(0, 365)\n",
    "decreasing_slope = pd.Interval(366, 730)"
   ]
  },
  {
   "cell_type": "code",
   "execution_count": 7,
   "metadata": {},
   "outputs": [],
   "source": [
    "def func(x):\n",
    "    if pd.isnull(x):\n",
    "        return 0\n",
    "    elif x in increasing_slope:\n",
    "        return x\n",
    "    elif x in decreasing_slope:\n",
    "        return 365 + (365 - x)\n",
    "    else:\n",
    "        return 0"
   ]
  },
  {
   "cell_type": "code",
   "execution_count": 37,
   "metadata": {},
   "outputs": [],
   "source": [
    "cs_data['raw_score'] = cs_data.days_until_predicted.apply(func)"
   ]
  },
  {
   "cell_type": "code",
   "execution_count": 42,
   "metadata": {},
   "outputs": [
    {
     "output_type": "stream",
     "name": "stdout",
     "text": "62.675\n"
    }
   ],
   "source": [
    "n = len(cs_data)\n",
    "total_raw_score = 0\n",
    "for grp, data in cs_data.groupby(['ticker']):\n",
    "    m = len(data)\n",
    "    total_raw_score += (1/m)*np.sum(data['raw_score'])*(m/n)\n",
    "print(total_raw_score)"
   ]
  },
  {
   "cell_type": "code",
   "execution_count": 45,
   "metadata": {},
   "outputs": [
    {
     "output_type": "stream",
     "name": "stdout",
     "text": "17.171232876712327\n"
    }
   ],
   "source": [
    "total_normalized_score = (total_raw_score - 0)/(365-0) * 100\n",
    "print(total_normalized_score)"
   ]
  }
 ]
}